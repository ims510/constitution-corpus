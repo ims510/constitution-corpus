{
 "cells": [
  {
   "cell_type": "code",
   "execution_count": 2,
   "metadata": {},
   "outputs": [],
   "source": [
    "\"\"\"  \n",
    "This cell is used to split the data into training, testing, and development sets.\n",
    "The training set contains 70% of the data, the testing set contains 15% of the data, and the development set contains 15% of the data.\n",
    "The data is stratified based on the category column to ensure that each set has a balanced number of examples from each category.\n",
    "The resulting DataFrames are saved as CSV files.\n",
    "\"\"\"\n",
    "import pandas as pd\n",
    "from sklearn.model_selection import train_test_split\n",
    "\n",
    "data = pd.read_csv(\"/Users/madalina/Documents/M1TAL/outils_trait_corpus/constitution-corpus/data/clean/news_augmented.csv\")\n",
    "\n",
    "# Split the DataFrame into training and remaining sets\n",
    "train_df, remaining = train_test_split(data, test_size=0.3, random_state=42, stratify=data['category'], shuffle=True)\n",
    "\n",
    "# Split the remaining data into testing and development sets\n",
    "test_df, dev_df = train_test_split(remaining, test_size=0.5, random_state=42, stratify=remaining['category'], shuffle=True)\n",
    "\n",
    "# Save the DataFrames as CSV files\n",
    "train_df.to_csv('/Users/madalina/Documents/M1TAL/outils_trait_corpus/constitution-corpus/data/training/train.csv', index=False)\n",
    "test_df.to_csv('/Users/madalina/Documents/M1TAL/outils_trait_corpus/constitution-corpus/data/training/test.csv', index=False)\n",
    "dev_df.to_csv('/Users/madalina/Documents/M1TAL/outils_trait_corpus/constitution-corpus/data/training/dev.csv', index=False)"
   ]
  }
 ],
 "metadata": {
  "kernelspec": {
   "display_name": "Python 3",
   "language": "python",
   "name": "python3"
  },
  "language_info": {
   "codemirror_mode": {
    "name": "ipython",
    "version": 3
   },
   "file_extension": ".py",
   "mimetype": "text/x-python",
   "name": "python",
   "nbconvert_exporter": "python",
   "pygments_lexer": "ipython3",
   "version": "3.11.6"
  }
 },
 "nbformat": 4,
 "nbformat_minor": 2
}
