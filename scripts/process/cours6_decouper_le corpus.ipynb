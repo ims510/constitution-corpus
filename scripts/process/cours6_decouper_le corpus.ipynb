{
 "cells": [
  {
   "cell_type": "code",
   "execution_count": 2,
   "metadata": {},
   "outputs": [],
   "source": [
    "import pandas as pd\n",
    "from sklearn.model_selection import train_test_split\n",
    "\n",
    "data = pd.read_csv(\"/Users/madalina/Documents/M1TAL/outils_trait_corpus/constitution-corpus/data/clean/news_augmented.csv\")\n",
    "\n",
    "# Create a DataFrame from your data\n",
    "# data = pd.DataFrame({\n",
    "#     'id': augmented_data['id'],\n",
    "#     'category': augmented_data['category'],\n",
    "#     'text': augmented_data['text'],\n",
    "#     'country': augmented_data['country']\n",
    "# })\n",
    "\n",
    "# Split the DataFrame into training and remaining sets\n",
    "train_df, remaining = train_test_split(data, test_size=0.3, random_state=42, stratify=data['category'], shuffle=True)\n",
    "\n",
    "# Split the remaining data into testing and development sets\n",
    "test_df, dev_df = train_test_split(remaining, test_size=0.5, random_state=42, stratify=remaining['category'], shuffle=True)\n",
    "\n",
    "# Save the DataFrames as CSV files\n",
    "train_df.to_csv('/Users/madalina/Documents/M1TAL/outils_trait_corpus/constitution-corpus/data/training/train.csv', index=False)\n",
    "test_df.to_csv('/Users/madalina/Documents/M1TAL/outils_trait_corpus/constitution-corpus/data/training/test.csv', index=False)\n",
    "dev_df.to_csv('/Users/madalina/Documents/M1TAL/outils_trait_corpus/constitution-corpus/data/training/dev.csv', index=False)"
   ]
  }
 ],
 "metadata": {
  "kernelspec": {
   "display_name": "Python 3",
   "language": "python",
   "name": "python3"
  },
  "language_info": {
   "codemirror_mode": {
    "name": "ipython",
    "version": 3
   },
   "file_extension": ".py",
   "mimetype": "text/x-python",
   "name": "python",
   "nbconvert_exporter": "python",
   "pygments_lexer": "ipython3",
   "version": "3.11.6"
  }
 },
 "nbformat": 4,
 "nbformat_minor": 2
}
